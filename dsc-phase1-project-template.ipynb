{
 "cells": [
  {
   "cell_type": "markdown",
   "metadata": {},
   "source": [
    "![example](images/director_shot.jpeg)"
   ]
  },
  {
   "cell_type": "markdown",
   "metadata": {},
   "source": [
    "# Project Title\n",
    "\n",
    "**Authors:** Student 1, Student 2, Student 3\n",
    "***"
   ]
  },
  {
   "cell_type": "markdown",
   "metadata": {},
   "source": [
    "## Overview\n",
    "\n",
    "A one-paragraph overview of the project, including the business problem, data, methods, results and recommendations."
   ]
  },
  {
   "cell_type": "markdown",
   "metadata": {},
   "source": [
    "## Business Problem\n",
    "\n",
    "Summary of the business problem you are trying to solve, and the data questions that you plan to answer to solve them.\n",
    "\n",
    "***\n",
    "Questions to consider:\n",
    "* What are the business's pain points related to this project?\n",
    "* How did you pick the data analysis question(s) that you did?\n",
    "* Why are these questions important from a business perspective?\n",
    "***"
   ]
  },
  {
   "cell_type": "markdown",
   "metadata": {},
   "source": [
    "## Data Understanding\n",
    "\n",
    "Describe the data being used for this project.\n",
    "***\n",
    "Questions to consider:\n",
    "* Where did the data come from, and how do they relate to the data analysis questions?\n",
    "* What do the data represent? Who is in the sample and what variables are included?\n",
    "* What is the target variable?\n",
    "* What are the properties of the variables you intend to use?\n",
    "***"
   ]
  },
  {
   "cell_type": "code",
   "execution_count": 1,
   "metadata": {},
   "outputs": [],
   "source": [
    "#importing the packages I will be using for this project\n",
    "import pandas as pd\n",
    "import numpy as np\n",
    "import matplotlib.pyplot as plt\n",
    "import seaborn as sns\n",
    "\n",
    "%matplotlib inline"
   ]
  },
  {
   "cell_type": "markdown",
   "metadata": {},
   "source": [
    "# Exploring Aviation  accident  data\n",
    "\n",
    "We start by exploring the data through typical data exploration method and attributes. We take a look at the first rows of data and the data types of columns."
   ]
  },
  {
   "cell_type": "code",
   "execution_count": 2,
   "metadata": {
    "scrolled": true
   },
   "outputs": [
    {
     "data": {
      "text/html": [
       "<div>\n",
       "<style scoped>\n",
       "    .dataframe tbody tr th:only-of-type {\n",
       "        vertical-align: middle;\n",
       "    }\n",
       "\n",
       "    .dataframe tbody tr th {\n",
       "        vertical-align: top;\n",
       "    }\n",
       "\n",
       "    .dataframe thead th {\n",
       "        text-align: right;\n",
       "    }\n",
       "</style>\n",
       "<table border=\"1\" class=\"dataframe\">\n",
       "  <thead>\n",
       "    <tr style=\"text-align: right;\">\n",
       "      <th></th>\n",
       "      <th>Event.Id</th>\n",
       "      <th>Investigation.Type</th>\n",
       "      <th>Accident.Number</th>\n",
       "      <th>Event.Date</th>\n",
       "      <th>Location</th>\n",
       "      <th>Country</th>\n",
       "      <th>Latitude</th>\n",
       "      <th>Longitude</th>\n",
       "      <th>Airport.Code</th>\n",
       "      <th>Airport.Name</th>\n",
       "      <th>...</th>\n",
       "      <th>Purpose.of.flight</th>\n",
       "      <th>Air.carrier</th>\n",
       "      <th>Total.Fatal.Injuries</th>\n",
       "      <th>Total.Serious.Injuries</th>\n",
       "      <th>Total.Minor.Injuries</th>\n",
       "      <th>Total.Uninjured</th>\n",
       "      <th>Weather.Condition</th>\n",
       "      <th>Broad.phase.of.flight</th>\n",
       "      <th>Report.Status</th>\n",
       "      <th>Publication.Date</th>\n",
       "    </tr>\n",
       "  </thead>\n",
       "  <tbody>\n",
       "    <tr>\n",
       "      <th>0</th>\n",
       "      <td>20001218X45444</td>\n",
       "      <td>Accident</td>\n",
       "      <td>SEA87LA080</td>\n",
       "      <td>1948-10-24</td>\n",
       "      <td>MOOSE CREEK, ID</td>\n",
       "      <td>United States</td>\n",
       "      <td>NaN</td>\n",
       "      <td>NaN</td>\n",
       "      <td>NaN</td>\n",
       "      <td>NaN</td>\n",
       "      <td>...</td>\n",
       "      <td>Personal</td>\n",
       "      <td>NaN</td>\n",
       "      <td>2.0</td>\n",
       "      <td>0.0</td>\n",
       "      <td>0.0</td>\n",
       "      <td>0.0</td>\n",
       "      <td>UNK</td>\n",
       "      <td>Cruise</td>\n",
       "      <td>Probable Cause</td>\n",
       "      <td>NaN</td>\n",
       "    </tr>\n",
       "    <tr>\n",
       "      <th>1</th>\n",
       "      <td>20001218X45447</td>\n",
       "      <td>Accident</td>\n",
       "      <td>LAX94LA336</td>\n",
       "      <td>1962-07-19</td>\n",
       "      <td>BRIDGEPORT, CA</td>\n",
       "      <td>United States</td>\n",
       "      <td>NaN</td>\n",
       "      <td>NaN</td>\n",
       "      <td>NaN</td>\n",
       "      <td>NaN</td>\n",
       "      <td>...</td>\n",
       "      <td>Personal</td>\n",
       "      <td>NaN</td>\n",
       "      <td>4.0</td>\n",
       "      <td>0.0</td>\n",
       "      <td>0.0</td>\n",
       "      <td>0.0</td>\n",
       "      <td>UNK</td>\n",
       "      <td>Unknown</td>\n",
       "      <td>Probable Cause</td>\n",
       "      <td>19-09-1996</td>\n",
       "    </tr>\n",
       "    <tr>\n",
       "      <th>2</th>\n",
       "      <td>20061025X01555</td>\n",
       "      <td>Accident</td>\n",
       "      <td>NYC07LA005</td>\n",
       "      <td>1974-08-30</td>\n",
       "      <td>Saltville, VA</td>\n",
       "      <td>United States</td>\n",
       "      <td>36.922223</td>\n",
       "      <td>-81.878056</td>\n",
       "      <td>NaN</td>\n",
       "      <td>NaN</td>\n",
       "      <td>...</td>\n",
       "      <td>Personal</td>\n",
       "      <td>NaN</td>\n",
       "      <td>3.0</td>\n",
       "      <td>NaN</td>\n",
       "      <td>NaN</td>\n",
       "      <td>NaN</td>\n",
       "      <td>IMC</td>\n",
       "      <td>Cruise</td>\n",
       "      <td>Probable Cause</td>\n",
       "      <td>26-02-2007</td>\n",
       "    </tr>\n",
       "    <tr>\n",
       "      <th>3</th>\n",
       "      <td>20001218X45448</td>\n",
       "      <td>Accident</td>\n",
       "      <td>LAX96LA321</td>\n",
       "      <td>1977-06-19</td>\n",
       "      <td>EUREKA, CA</td>\n",
       "      <td>United States</td>\n",
       "      <td>NaN</td>\n",
       "      <td>NaN</td>\n",
       "      <td>NaN</td>\n",
       "      <td>NaN</td>\n",
       "      <td>...</td>\n",
       "      <td>Personal</td>\n",
       "      <td>NaN</td>\n",
       "      <td>2.0</td>\n",
       "      <td>0.0</td>\n",
       "      <td>0.0</td>\n",
       "      <td>0.0</td>\n",
       "      <td>IMC</td>\n",
       "      <td>Cruise</td>\n",
       "      <td>Probable Cause</td>\n",
       "      <td>12-09-2000</td>\n",
       "    </tr>\n",
       "    <tr>\n",
       "      <th>4</th>\n",
       "      <td>20041105X01764</td>\n",
       "      <td>Accident</td>\n",
       "      <td>CHI79FA064</td>\n",
       "      <td>1979-08-02</td>\n",
       "      <td>Canton, OH</td>\n",
       "      <td>United States</td>\n",
       "      <td>NaN</td>\n",
       "      <td>NaN</td>\n",
       "      <td>NaN</td>\n",
       "      <td>NaN</td>\n",
       "      <td>...</td>\n",
       "      <td>Personal</td>\n",
       "      <td>NaN</td>\n",
       "      <td>1.0</td>\n",
       "      <td>2.0</td>\n",
       "      <td>NaN</td>\n",
       "      <td>0.0</td>\n",
       "      <td>VMC</td>\n",
       "      <td>Approach</td>\n",
       "      <td>Probable Cause</td>\n",
       "      <td>16-04-1980</td>\n",
       "    </tr>\n",
       "  </tbody>\n",
       "</table>\n",
       "<p>5 rows × 31 columns</p>\n",
       "</div>"
      ],
      "text/plain": [
       "         Event.Id Investigation.Type Accident.Number  Event.Date  \\\n",
       "0  20001218X45444           Accident      SEA87LA080  1948-10-24   \n",
       "1  20001218X45447           Accident      LAX94LA336  1962-07-19   \n",
       "2  20061025X01555           Accident      NYC07LA005  1974-08-30   \n",
       "3  20001218X45448           Accident      LAX96LA321  1977-06-19   \n",
       "4  20041105X01764           Accident      CHI79FA064  1979-08-02   \n",
       "\n",
       "          Location        Country   Latitude   Longitude Airport.Code  \\\n",
       "0  MOOSE CREEK, ID  United States        NaN         NaN          NaN   \n",
       "1   BRIDGEPORT, CA  United States        NaN         NaN          NaN   \n",
       "2    Saltville, VA  United States  36.922223  -81.878056          NaN   \n",
       "3       EUREKA, CA  United States        NaN         NaN          NaN   \n",
       "4       Canton, OH  United States        NaN         NaN          NaN   \n",
       "\n",
       "  Airport.Name  ... Purpose.of.flight Air.carrier Total.Fatal.Injuries  \\\n",
       "0          NaN  ...          Personal         NaN                  2.0   \n",
       "1          NaN  ...          Personal         NaN                  4.0   \n",
       "2          NaN  ...          Personal         NaN                  3.0   \n",
       "3          NaN  ...          Personal         NaN                  2.0   \n",
       "4          NaN  ...          Personal         NaN                  1.0   \n",
       "\n",
       "  Total.Serious.Injuries Total.Minor.Injuries Total.Uninjured  \\\n",
       "0                    0.0                  0.0             0.0   \n",
       "1                    0.0                  0.0             0.0   \n",
       "2                    NaN                  NaN             NaN   \n",
       "3                    0.0                  0.0             0.0   \n",
       "4                    2.0                  NaN             0.0   \n",
       "\n",
       "  Weather.Condition  Broad.phase.of.flight   Report.Status Publication.Date  \n",
       "0               UNK                 Cruise  Probable Cause              NaN  \n",
       "1               UNK                Unknown  Probable Cause       19-09-1996  \n",
       "2               IMC                 Cruise  Probable Cause       26-02-2007  \n",
       "3               IMC                 Cruise  Probable Cause       12-09-2000  \n",
       "4               VMC               Approach  Probable Cause       16-04-1980  \n",
       "\n",
       "[5 rows x 31 columns]"
      ]
     },
     "execution_count": 2,
     "metadata": {},
     "output_type": "execute_result"
    }
   ],
   "source": [
    "# reading the csv file\n",
    "avi_df = pd.read_csv(\"Data\\AviationData.csv\", encoding=\"latin1\", low_memory=False )\n",
    "\n",
    "# previewing the DataFrame\n",
    "avi_df.head()"
   ]
  },
  {
   "cell_type": "code",
   "execution_count": 3,
   "metadata": {},
   "outputs": [
    {
     "data": {
      "text/plain": [
       "Index(['Event.Id', 'Investigation.Type', 'Accident.Number', 'Event.Date',\n",
       "       'Location', 'Country', 'Latitude', 'Longitude', 'Airport.Code',\n",
       "       'Airport.Name', 'Injury.Severity', 'Aircraft.damage',\n",
       "       'Aircraft.Category', 'Registration.Number', 'Make', 'Model',\n",
       "       'Amateur.Built', 'Number.of.Engines', 'Engine.Type', 'FAR.Description',\n",
       "       'Schedule', 'Purpose.of.flight', 'Air.carrier', 'Total.Fatal.Injuries',\n",
       "       'Total.Serious.Injuries', 'Total.Minor.Injuries', 'Total.Uninjured',\n",
       "       'Weather.Condition', 'Broad.phase.of.flight', 'Report.Status',\n",
       "       'Publication.Date'],\n",
       "      dtype='object')"
      ]
     },
     "execution_count": 3,
     "metadata": {},
     "output_type": "execute_result"
    }
   ],
   "source": [
    "# List of data's columns\n",
    "avi_df.columns"
   ]
  },
  {
   "cell_type": "code",
   "execution_count": 4,
   "metadata": {},
   "outputs": [
    {
     "data": {
      "text/plain": [
       "(88889, 31)"
      ]
     },
     "execution_count": 4,
     "metadata": {},
     "output_type": "execute_result"
    }
   ],
   "source": [
    "# shape of the dataset\n",
    "avi_df.shape"
   ]
  },
  {
   "cell_type": "markdown",
   "metadata": {},
   "source": [
    "## Statistical Summary of the data set"
   ]
  },
  {
   "cell_type": "code",
   "execution_count": 5,
   "metadata": {},
   "outputs": [
    {
     "name": "stdout",
     "output_type": "stream",
     "text": [
      "<class 'pandas.core.frame.DataFrame'>\n",
      "RangeIndex: 88889 entries, 0 to 88888\n",
      "Data columns (total 31 columns):\n",
      " #   Column                  Non-Null Count  Dtype  \n",
      "---  ------                  --------------  -----  \n",
      " 0   Event.Id                88889 non-null  object \n",
      " 1   Investigation.Type      88889 non-null  object \n",
      " 2   Accident.Number         88889 non-null  object \n",
      " 3   Event.Date              88889 non-null  object \n",
      " 4   Location                88837 non-null  object \n",
      " 5   Country                 88663 non-null  object \n",
      " 6   Latitude                34382 non-null  object \n",
      " 7   Longitude               34373 non-null  object \n",
      " 8   Airport.Code            50249 non-null  object \n",
      " 9   Airport.Name            52790 non-null  object \n",
      " 10  Injury.Severity         87889 non-null  object \n",
      " 11  Aircraft.damage         85695 non-null  object \n",
      " 12  Aircraft.Category       32287 non-null  object \n",
      " 13  Registration.Number     87572 non-null  object \n",
      " 14  Make                    88826 non-null  object \n",
      " 15  Model                   88797 non-null  object \n",
      " 16  Amateur.Built           88787 non-null  object \n",
      " 17  Number.of.Engines       82805 non-null  float64\n",
      " 18  Engine.Type             81812 non-null  object \n",
      " 19  FAR.Description         32023 non-null  object \n",
      " 20  Schedule                12582 non-null  object \n",
      " 21  Purpose.of.flight       82697 non-null  object \n",
      " 22  Air.carrier             16648 non-null  object \n",
      " 23  Total.Fatal.Injuries    77488 non-null  float64\n",
      " 24  Total.Serious.Injuries  76379 non-null  float64\n",
      " 25  Total.Minor.Injuries    76956 non-null  float64\n",
      " 26  Total.Uninjured         82977 non-null  float64\n",
      " 27  Weather.Condition       84397 non-null  object \n",
      " 28  Broad.phase.of.flight   61724 non-null  object \n",
      " 29  Report.Status           82508 non-null  object \n",
      " 30  Publication.Date        75118 non-null  object \n",
      "dtypes: float64(5), object(26)\n",
      "memory usage: 21.0+ MB\n"
     ]
    }
   ],
   "source": [
    "avi_df.info()"
   ]
  },
  {
   "cell_type": "code",
   "execution_count": 6,
   "metadata": {
    "scrolled": false
   },
   "outputs": [
    {
     "data": {
      "text/html": [
       "<div>\n",
       "<style scoped>\n",
       "    .dataframe tbody tr th:only-of-type {\n",
       "        vertical-align: middle;\n",
       "    }\n",
       "\n",
       "    .dataframe tbody tr th {\n",
       "        vertical-align: top;\n",
       "    }\n",
       "\n",
       "    .dataframe thead th {\n",
       "        text-align: right;\n",
       "    }\n",
       "</style>\n",
       "<table border=\"1\" class=\"dataframe\">\n",
       "  <thead>\n",
       "    <tr style=\"text-align: right;\">\n",
       "      <th></th>\n",
       "      <th>Number.of.Engines</th>\n",
       "      <th>Total.Fatal.Injuries</th>\n",
       "      <th>Total.Serious.Injuries</th>\n",
       "      <th>Total.Minor.Injuries</th>\n",
       "      <th>Total.Uninjured</th>\n",
       "    </tr>\n",
       "  </thead>\n",
       "  <tbody>\n",
       "    <tr>\n",
       "      <th>count</th>\n",
       "      <td>82805.000000</td>\n",
       "      <td>77488.000000</td>\n",
       "      <td>76379.000000</td>\n",
       "      <td>76956.000000</td>\n",
       "      <td>82977.000000</td>\n",
       "    </tr>\n",
       "    <tr>\n",
       "      <th>mean</th>\n",
       "      <td>1.146585</td>\n",
       "      <td>0.647855</td>\n",
       "      <td>0.279881</td>\n",
       "      <td>0.357061</td>\n",
       "      <td>5.325440</td>\n",
       "    </tr>\n",
       "    <tr>\n",
       "      <th>std</th>\n",
       "      <td>0.446510</td>\n",
       "      <td>5.485960</td>\n",
       "      <td>1.544084</td>\n",
       "      <td>2.235625</td>\n",
       "      <td>27.913634</td>\n",
       "    </tr>\n",
       "    <tr>\n",
       "      <th>min</th>\n",
       "      <td>0.000000</td>\n",
       "      <td>0.000000</td>\n",
       "      <td>0.000000</td>\n",
       "      <td>0.000000</td>\n",
       "      <td>0.000000</td>\n",
       "    </tr>\n",
       "    <tr>\n",
       "      <th>25%</th>\n",
       "      <td>1.000000</td>\n",
       "      <td>0.000000</td>\n",
       "      <td>0.000000</td>\n",
       "      <td>0.000000</td>\n",
       "      <td>0.000000</td>\n",
       "    </tr>\n",
       "    <tr>\n",
       "      <th>50%</th>\n",
       "      <td>1.000000</td>\n",
       "      <td>0.000000</td>\n",
       "      <td>0.000000</td>\n",
       "      <td>0.000000</td>\n",
       "      <td>1.000000</td>\n",
       "    </tr>\n",
       "    <tr>\n",
       "      <th>75%</th>\n",
       "      <td>1.000000</td>\n",
       "      <td>0.000000</td>\n",
       "      <td>0.000000</td>\n",
       "      <td>0.000000</td>\n",
       "      <td>2.000000</td>\n",
       "    </tr>\n",
       "    <tr>\n",
       "      <th>max</th>\n",
       "      <td>8.000000</td>\n",
       "      <td>349.000000</td>\n",
       "      <td>161.000000</td>\n",
       "      <td>380.000000</td>\n",
       "      <td>699.000000</td>\n",
       "    </tr>\n",
       "  </tbody>\n",
       "</table>\n",
       "</div>"
      ],
      "text/plain": [
       "       Number.of.Engines  Total.Fatal.Injuries  Total.Serious.Injuries  \\\n",
       "count       82805.000000          77488.000000            76379.000000   \n",
       "mean            1.146585              0.647855                0.279881   \n",
       "std             0.446510              5.485960                1.544084   \n",
       "min             0.000000              0.000000                0.000000   \n",
       "25%             1.000000              0.000000                0.000000   \n",
       "50%             1.000000              0.000000                0.000000   \n",
       "75%             1.000000              0.000000                0.000000   \n",
       "max             8.000000            349.000000              161.000000   \n",
       "\n",
       "       Total.Minor.Injuries  Total.Uninjured  \n",
       "count          76956.000000     82977.000000  \n",
       "mean               0.357061         5.325440  \n",
       "std                2.235625        27.913634  \n",
       "min                0.000000         0.000000  \n",
       "25%                0.000000         0.000000  \n",
       "50%                0.000000         1.000000  \n",
       "75%                0.000000         2.000000  \n",
       "max              380.000000       699.000000  "
      ]
     },
     "execution_count": 6,
     "metadata": {},
     "output_type": "execute_result"
    }
   ],
   "source": [
    "avi_df.describe()"
   ]
  },
  {
   "cell_type": "markdown",
   "metadata": {},
   "source": [
    "## Data Preparation\n",
    "\n",
    "Describe and justify the process for preparing the data for analysis.\n",
    "\n",
    "***\n",
    "Questions to consider:\n",
    "* Were there variables you dropped or created?\n",
    "* How did you address missing values or outliers?\n",
    "* Why are these choices appropriate given the data and the business problem?\n",
    "***"
   ]
  },
  {
   "cell_type": "code",
   "execution_count": 7,
   "metadata": {},
   "outputs": [
    {
     "data": {
      "text/plain": [
       "Event.Id                      0\n",
       "Investigation.Type            0\n",
       "Accident.Number               0\n",
       "Event.Date                    0\n",
       "Location                     52\n",
       "Country                     226\n",
       "Latitude                  54507\n",
       "Longitude                 54516\n",
       "Airport.Code              38640\n",
       "Airport.Name              36099\n",
       "Injury.Severity            1000\n",
       "Aircraft.damage            3194\n",
       "Aircraft.Category         56602\n",
       "Registration.Number        1317\n",
       "Make                         63\n",
       "Model                        92\n",
       "Amateur.Built               102\n",
       "Number.of.Engines          6084\n",
       "Engine.Type                7077\n",
       "FAR.Description           56866\n",
       "Schedule                  76307\n",
       "Purpose.of.flight          6192\n",
       "Air.carrier               72241\n",
       "Total.Fatal.Injuries      11401\n",
       "Total.Serious.Injuries    12510\n",
       "Total.Minor.Injuries      11933\n",
       "Total.Uninjured            5912\n",
       "Weather.Condition          4492\n",
       "Broad.phase.of.flight     27165\n",
       "Report.Status              6381\n",
       "Publication.Date          13771\n",
       "dtype: int64"
      ]
     },
     "execution_count": 7,
     "metadata": {},
     "output_type": "execute_result"
    }
   ],
   "source": [
    "# Here you run your code to clean the data\n",
    "avi_df.isna().sum()"
   ]
  },
  {
   "cell_type": "code",
   "execution_count": 8,
   "metadata": {},
   "outputs": [
    {
     "data": {
      "text/plain": [
       "Accident    85015\n",
       "Incident     3874\n",
       "Name: Investigation.Type, dtype: int64"
      ]
     },
     "execution_count": 8,
     "metadata": {},
     "output_type": "execute_result"
    }
   ],
   "source": [
    "avi_df['Investigation.Type'].value_counts()"
   ]
  },
  {
   "cell_type": "code",
   "execution_count": 9,
   "metadata": {
    "scrolled": true
   },
   "outputs": [
    {
     "data": {
      "text/plain": [
       "Event.Id                   0.000000\n",
       "Investigation.Type         0.000000\n",
       "Accident.Number            0.000000\n",
       "Event.Date                 0.000000\n",
       "Location                   0.058500\n",
       "Country                    0.254250\n",
       "Latitude                  61.320298\n",
       "Longitude                 61.330423\n",
       "Airport.Code              43.469946\n",
       "Airport.Name              40.611324\n",
       "Injury.Severity            1.124999\n",
       "Aircraft.damage            3.593246\n",
       "Aircraft.Category         63.677170\n",
       "Registration.Number        1.481623\n",
       "Make                       0.070875\n",
       "Model                      0.103500\n",
       "Amateur.Built              0.114750\n",
       "Number.of.Engines          6.844491\n",
       "Engine.Type                7.961615\n",
       "FAR.Description           63.974170\n",
       "Schedule                  85.845268\n",
       "Purpose.of.flight          6.965991\n",
       "Air.carrier               81.271023\n",
       "Total.Fatal.Injuries      12.826109\n",
       "Total.Serious.Injuries    14.073732\n",
       "Total.Minor.Injuries      13.424608\n",
       "Total.Uninjured            6.650992\n",
       "Weather.Condition          5.053494\n",
       "Broad.phase.of.flight     30.560587\n",
       "Report.Status              7.178616\n",
       "Publication.Date          15.492356\n",
       "dtype: float64"
      ]
     },
     "execution_count": 9,
     "metadata": {},
     "output_type": "execute_result"
    }
   ],
   "source": [
    "#Finding the percentages of null columns\n",
    "avi_df.isna().sum() / len(avi_df) * 100"
   ]
  },
  {
   "cell_type": "code",
   "execution_count": 10,
   "metadata": {},
   "outputs": [],
   "source": [
    "#Dropping irrelevant columns and columns with a higher percentage of null values\n",
    "cols_to_drop = ['Accident.Number','Latitude', 'Longitude', 'Airport.Code', 'Airport.Name','Aircraft.Category',\n",
    "                'FAR.Description', 'Schedule','Registration.Number', \n",
    "                'Air.carrier','Amateur.Built','Broad.phase.of.flight',\n",
    "                'Publication.Date', 'Report.Status']\n",
    "avi_df_clean = avi_df.drop(columns=cols_to_drop)"
   ]
  },
  {
   "cell_type": "code",
   "execution_count": 11,
   "metadata": {},
   "outputs": [
    {
     "data": {
      "text/plain": [
       "Index(['Event.Id', 'Investigation.Type', 'Event.Date', 'Location', 'Country',\n",
       "       'Injury.Severity', 'Aircraft.damage', 'Make', 'Model',\n",
       "       'Number.of.Engines', 'Engine.Type', 'Purpose.of.flight',\n",
       "       'Total.Fatal.Injuries', 'Total.Serious.Injuries',\n",
       "       'Total.Minor.Injuries', 'Total.Uninjured', 'Weather.Condition'],\n",
       "      dtype='object')"
      ]
     },
     "execution_count": 11,
     "metadata": {},
     "output_type": "execute_result"
    }
   ],
   "source": [
    "avi_df_clean.columns"
   ]
  },
  {
   "cell_type": "code",
   "execution_count": 12,
   "metadata": {},
   "outputs": [
    {
     "data": {
      "text/plain": [
       "Event.Id                      0\n",
       "Investigation.Type            0\n",
       "Event.Date                    0\n",
       "Location                     52\n",
       "Country                     226\n",
       "Injury.Severity            1000\n",
       "Aircraft.damage            3194\n",
       "Make                         63\n",
       "Model                        92\n",
       "Number.of.Engines          6084\n",
       "Engine.Type                7077\n",
       "Purpose.of.flight          6192\n",
       "Total.Fatal.Injuries      11401\n",
       "Total.Serious.Injuries    12510\n",
       "Total.Minor.Injuries      11933\n",
       "Total.Uninjured            5912\n",
       "Weather.Condition          4492\n",
       "dtype: int64"
      ]
     },
     "execution_count": 12,
     "metadata": {},
     "output_type": "execute_result"
    }
   ],
   "source": [
    "avi_df_clean.isna().sum()"
   ]
  },
  {
   "cell_type": "code",
   "execution_count": 13,
   "metadata": {},
   "outputs": [
    {
     "data": {
      "text/plain": [
       "0.0      59675\n",
       "1.0       8883\n",
       "2.0       5173\n",
       "3.0       1589\n",
       "4.0       1103\n",
       "         ...  \n",
       "31.0         1\n",
       "169.0        1\n",
       "150.0        1\n",
       "117.0        1\n",
       "156.0        1\n",
       "Name: Total.Fatal.Injuries, Length: 125, dtype: int64"
      ]
     },
     "execution_count": 13,
     "metadata": {},
     "output_type": "execute_result"
    }
   ],
   "source": [
    "avi_df_clean['Total.Fatal.Injuries'].value_counts()"
   ]
  },
  {
   "cell_type": "code",
   "execution_count": 14,
   "metadata": {},
   "outputs": [
    {
     "data": {
      "text/html": [
       "<div>\n",
       "<style scoped>\n",
       "    .dataframe tbody tr th:only-of-type {\n",
       "        vertical-align: middle;\n",
       "    }\n",
       "\n",
       "    .dataframe tbody tr th {\n",
       "        vertical-align: top;\n",
       "    }\n",
       "\n",
       "    .dataframe thead th {\n",
       "        text-align: right;\n",
       "    }\n",
       "</style>\n",
       "<table border=\"1\" class=\"dataframe\">\n",
       "  <thead>\n",
       "    <tr style=\"text-align: right;\">\n",
       "      <th></th>\n",
       "      <th>Event.Id</th>\n",
       "      <th>Investigation.Type</th>\n",
       "      <th>Event.Date</th>\n",
       "      <th>Location</th>\n",
       "      <th>Country</th>\n",
       "      <th>Injury.Severity</th>\n",
       "      <th>Aircraft.damage</th>\n",
       "      <th>Make</th>\n",
       "      <th>Model</th>\n",
       "      <th>Number.of.Engines</th>\n",
       "      <th>Engine.Type</th>\n",
       "      <th>Purpose.of.flight</th>\n",
       "      <th>Total.Fatal.Injuries</th>\n",
       "      <th>Total.Serious.Injuries</th>\n",
       "      <th>Total.Minor.Injuries</th>\n",
       "      <th>Total.Uninjured</th>\n",
       "      <th>Weather.Condition</th>\n",
       "    </tr>\n",
       "  </thead>\n",
       "  <tbody>\n",
       "    <tr>\n",
       "      <th>0</th>\n",
       "      <td>20001218X45444</td>\n",
       "      <td>Accident</td>\n",
       "      <td>1948-10-24</td>\n",
       "      <td>MOOSE CREEK, ID</td>\n",
       "      <td>United States</td>\n",
       "      <td>Fatal(2)</td>\n",
       "      <td>Destroyed</td>\n",
       "      <td>Stinson</td>\n",
       "      <td>108-3</td>\n",
       "      <td>1.0</td>\n",
       "      <td>Reciprocating</td>\n",
       "      <td>Personal</td>\n",
       "      <td>2.0</td>\n",
       "      <td>0.0</td>\n",
       "      <td>0.0</td>\n",
       "      <td>0.0</td>\n",
       "      <td>UNK</td>\n",
       "    </tr>\n",
       "    <tr>\n",
       "      <th>1</th>\n",
       "      <td>20001218X45447</td>\n",
       "      <td>Accident</td>\n",
       "      <td>1962-07-19</td>\n",
       "      <td>BRIDGEPORT, CA</td>\n",
       "      <td>United States</td>\n",
       "      <td>Fatal(4)</td>\n",
       "      <td>Destroyed</td>\n",
       "      <td>Piper</td>\n",
       "      <td>PA24-180</td>\n",
       "      <td>1.0</td>\n",
       "      <td>Reciprocating</td>\n",
       "      <td>Personal</td>\n",
       "      <td>4.0</td>\n",
       "      <td>0.0</td>\n",
       "      <td>0.0</td>\n",
       "      <td>0.0</td>\n",
       "      <td>UNK</td>\n",
       "    </tr>\n",
       "    <tr>\n",
       "      <th>2</th>\n",
       "      <td>20061025X01555</td>\n",
       "      <td>Accident</td>\n",
       "      <td>1974-08-30</td>\n",
       "      <td>Saltville, VA</td>\n",
       "      <td>United States</td>\n",
       "      <td>Fatal(3)</td>\n",
       "      <td>Destroyed</td>\n",
       "      <td>Cessna</td>\n",
       "      <td>172M</td>\n",
       "      <td>1.0</td>\n",
       "      <td>Reciprocating</td>\n",
       "      <td>Personal</td>\n",
       "      <td>3.0</td>\n",
       "      <td>NaN</td>\n",
       "      <td>NaN</td>\n",
       "      <td>NaN</td>\n",
       "      <td>IMC</td>\n",
       "    </tr>\n",
       "    <tr>\n",
       "      <th>3</th>\n",
       "      <td>20001218X45448</td>\n",
       "      <td>Accident</td>\n",
       "      <td>1977-06-19</td>\n",
       "      <td>EUREKA, CA</td>\n",
       "      <td>United States</td>\n",
       "      <td>Fatal(2)</td>\n",
       "      <td>Destroyed</td>\n",
       "      <td>Rockwell</td>\n",
       "      <td>112</td>\n",
       "      <td>1.0</td>\n",
       "      <td>Reciprocating</td>\n",
       "      <td>Personal</td>\n",
       "      <td>2.0</td>\n",
       "      <td>0.0</td>\n",
       "      <td>0.0</td>\n",
       "      <td>0.0</td>\n",
       "      <td>IMC</td>\n",
       "    </tr>\n",
       "    <tr>\n",
       "      <th>4</th>\n",
       "      <td>20041105X01764</td>\n",
       "      <td>Accident</td>\n",
       "      <td>1979-08-02</td>\n",
       "      <td>Canton, OH</td>\n",
       "      <td>United States</td>\n",
       "      <td>Fatal(1)</td>\n",
       "      <td>Destroyed</td>\n",
       "      <td>Cessna</td>\n",
       "      <td>501</td>\n",
       "      <td>NaN</td>\n",
       "      <td>NaN</td>\n",
       "      <td>Personal</td>\n",
       "      <td>1.0</td>\n",
       "      <td>2.0</td>\n",
       "      <td>NaN</td>\n",
       "      <td>0.0</td>\n",
       "      <td>VMC</td>\n",
       "    </tr>\n",
       "  </tbody>\n",
       "</table>\n",
       "</div>"
      ],
      "text/plain": [
       "         Event.Id Investigation.Type  Event.Date         Location  \\\n",
       "0  20001218X45444           Accident  1948-10-24  MOOSE CREEK, ID   \n",
       "1  20001218X45447           Accident  1962-07-19   BRIDGEPORT, CA   \n",
       "2  20061025X01555           Accident  1974-08-30    Saltville, VA   \n",
       "3  20001218X45448           Accident  1977-06-19       EUREKA, CA   \n",
       "4  20041105X01764           Accident  1979-08-02       Canton, OH   \n",
       "\n",
       "         Country Injury.Severity Aircraft.damage      Make     Model  \\\n",
       "0  United States        Fatal(2)       Destroyed   Stinson     108-3   \n",
       "1  United States        Fatal(4)       Destroyed     Piper  PA24-180   \n",
       "2  United States        Fatal(3)       Destroyed    Cessna      172M   \n",
       "3  United States        Fatal(2)       Destroyed  Rockwell       112   \n",
       "4  United States        Fatal(1)       Destroyed    Cessna       501   \n",
       "\n",
       "   Number.of.Engines    Engine.Type Purpose.of.flight  Total.Fatal.Injuries  \\\n",
       "0                1.0  Reciprocating          Personal                   2.0   \n",
       "1                1.0  Reciprocating          Personal                   4.0   \n",
       "2                1.0  Reciprocating          Personal                   3.0   \n",
       "3                1.0  Reciprocating          Personal                   2.0   \n",
       "4                NaN            NaN          Personal                   1.0   \n",
       "\n",
       "   Total.Serious.Injuries  Total.Minor.Injuries  Total.Uninjured  \\\n",
       "0                     0.0                   0.0              0.0   \n",
       "1                     0.0                   0.0              0.0   \n",
       "2                     NaN                   NaN              NaN   \n",
       "3                     0.0                   0.0              0.0   \n",
       "4                     2.0                   NaN              0.0   \n",
       "\n",
       "  Weather.Condition  \n",
       "0               UNK  \n",
       "1               UNK  \n",
       "2               IMC  \n",
       "3               IMC  \n",
       "4               VMC  "
      ]
     },
     "execution_count": 14,
     "metadata": {},
     "output_type": "execute_result"
    }
   ],
   "source": [
    "avi_df_clean.head()"
   ]
  },
  {
   "cell_type": "code",
   "execution_count": 15,
   "metadata": {},
   "outputs": [
    {
     "name": "stdout",
     "output_type": "stream",
     "text": [
      "Index(['event_id', 'investigation_type', 'event_date', 'location', 'country',\n",
      "       'injury_severity', 'aircraft_damage', 'make', 'model',\n",
      "       'number_of_engines', 'engine_type', 'purpose_of_flight',\n",
      "       'total_fatal_injuries', 'total_serious_injuries',\n",
      "       'total_minor_injuries', 'total_uninjured', 'weather_condition'],\n",
      "      dtype='object')\n"
     ]
    }
   ],
   "source": [
    "# Renaming the columns to a consistent and conscise format\n",
    "# Dictionary to rename old column names to new column names\n",
    "column_rename = {\n",
    "    \"Event.Id\": \"event_id\",\n",
    "    \"Investigation.Type\": \"investigation_type\",\n",
    "    \"Event.Date\": \"event_date\",\n",
    "    \"Location\": \"location\",\n",
    "    \"Country\": \"country\",\n",
    "    \"Injury.Severity\": \"injury_severity\",\n",
    "    \"Aircraft.damage\": \"aircraft_damage\",\n",
    "    \"Make\": \"make\",\n",
    "    \"Model\": \"model\",\n",
    "    \"Number.of.Engines\": \"number_of_engines\",\n",
    "    \"Engine.Type\": \"engine_type\",\n",
    "    \"Purpose.of.flight\": \"purpose_of_flight\",\n",
    "    \"Total.Fatal.Injuries\": \"total_fatal_injuries\",\n",
    "    \"Total.Serious.Injuries\": \"total_serious_injuries\",\n",
    "    \"Total.Minor.Injuries\": \"total_minor_injuries\",\n",
    "    \"Total.Uninjured\": \"total_uninjured\",\n",
    "    \"Weather.Condition\": \"weather_condition\"\n",
    "}\n",
    "\n",
    "# Renaming the columns\n",
    "avi_df_clean.rename(columns=column_rename, inplace=True)\n",
    "\n",
    "# Display the new column names\n",
    "print(avi_df_clean.columns)\n"
   ]
  },
  {
   "cell_type": "code",
   "execution_count": 16,
   "metadata": {},
   "outputs": [
    {
     "data": {
      "text/html": [
       "<div>\n",
       "<style scoped>\n",
       "    .dataframe tbody tr th:only-of-type {\n",
       "        vertical-align: middle;\n",
       "    }\n",
       "\n",
       "    .dataframe tbody tr th {\n",
       "        vertical-align: top;\n",
       "    }\n",
       "\n",
       "    .dataframe thead th {\n",
       "        text-align: right;\n",
       "    }\n",
       "</style>\n",
       "<table border=\"1\" class=\"dataframe\">\n",
       "  <thead>\n",
       "    <tr style=\"text-align: right;\">\n",
       "      <th></th>\n",
       "      <th>event_id</th>\n",
       "      <th>investigation_type</th>\n",
       "      <th>event_date</th>\n",
       "      <th>location</th>\n",
       "      <th>country</th>\n",
       "      <th>injury_severity</th>\n",
       "      <th>aircraft_damage</th>\n",
       "      <th>make</th>\n",
       "      <th>model</th>\n",
       "      <th>number_of_engines</th>\n",
       "      <th>engine_type</th>\n",
       "      <th>purpose_of_flight</th>\n",
       "      <th>total_fatal_injuries</th>\n",
       "      <th>total_serious_injuries</th>\n",
       "      <th>total_minor_injuries</th>\n",
       "      <th>total_uninjured</th>\n",
       "      <th>weather_condition</th>\n",
       "    </tr>\n",
       "  </thead>\n",
       "  <tbody>\n",
       "    <tr>\n",
       "      <th>0</th>\n",
       "      <td>20001218X45444</td>\n",
       "      <td>Accident</td>\n",
       "      <td>1948-10-24</td>\n",
       "      <td>MOOSE CREEK, ID</td>\n",
       "      <td>United States</td>\n",
       "      <td>Fatal(2)</td>\n",
       "      <td>Destroyed</td>\n",
       "      <td>Stinson</td>\n",
       "      <td>108-3</td>\n",
       "      <td>1.0</td>\n",
       "      <td>Reciprocating</td>\n",
       "      <td>Personal</td>\n",
       "      <td>2.0</td>\n",
       "      <td>0.0</td>\n",
       "      <td>0.0</td>\n",
       "      <td>0.0</td>\n",
       "      <td>UNK</td>\n",
       "    </tr>\n",
       "    <tr>\n",
       "      <th>1</th>\n",
       "      <td>20001218X45447</td>\n",
       "      <td>Accident</td>\n",
       "      <td>1962-07-19</td>\n",
       "      <td>BRIDGEPORT, CA</td>\n",
       "      <td>United States</td>\n",
       "      <td>Fatal(4)</td>\n",
       "      <td>Destroyed</td>\n",
       "      <td>Piper</td>\n",
       "      <td>PA24-180</td>\n",
       "      <td>1.0</td>\n",
       "      <td>Reciprocating</td>\n",
       "      <td>Personal</td>\n",
       "      <td>4.0</td>\n",
       "      <td>0.0</td>\n",
       "      <td>0.0</td>\n",
       "      <td>0.0</td>\n",
       "      <td>UNK</td>\n",
       "    </tr>\n",
       "    <tr>\n",
       "      <th>2</th>\n",
       "      <td>20061025X01555</td>\n",
       "      <td>Accident</td>\n",
       "      <td>1974-08-30</td>\n",
       "      <td>Saltville, VA</td>\n",
       "      <td>United States</td>\n",
       "      <td>Fatal(3)</td>\n",
       "      <td>Destroyed</td>\n",
       "      <td>Cessna</td>\n",
       "      <td>172M</td>\n",
       "      <td>1.0</td>\n",
       "      <td>Reciprocating</td>\n",
       "      <td>Personal</td>\n",
       "      <td>3.0</td>\n",
       "      <td>NaN</td>\n",
       "      <td>NaN</td>\n",
       "      <td>NaN</td>\n",
       "      <td>IMC</td>\n",
       "    </tr>\n",
       "    <tr>\n",
       "      <th>3</th>\n",
       "      <td>20001218X45448</td>\n",
       "      <td>Accident</td>\n",
       "      <td>1977-06-19</td>\n",
       "      <td>EUREKA, CA</td>\n",
       "      <td>United States</td>\n",
       "      <td>Fatal(2)</td>\n",
       "      <td>Destroyed</td>\n",
       "      <td>Rockwell</td>\n",
       "      <td>112</td>\n",
       "      <td>1.0</td>\n",
       "      <td>Reciprocating</td>\n",
       "      <td>Personal</td>\n",
       "      <td>2.0</td>\n",
       "      <td>0.0</td>\n",
       "      <td>0.0</td>\n",
       "      <td>0.0</td>\n",
       "      <td>IMC</td>\n",
       "    </tr>\n",
       "    <tr>\n",
       "      <th>4</th>\n",
       "      <td>20041105X01764</td>\n",
       "      <td>Accident</td>\n",
       "      <td>1979-08-02</td>\n",
       "      <td>Canton, OH</td>\n",
       "      <td>United States</td>\n",
       "      <td>Fatal(1)</td>\n",
       "      <td>Destroyed</td>\n",
       "      <td>Cessna</td>\n",
       "      <td>501</td>\n",
       "      <td>NaN</td>\n",
       "      <td>NaN</td>\n",
       "      <td>Personal</td>\n",
       "      <td>1.0</td>\n",
       "      <td>2.0</td>\n",
       "      <td>NaN</td>\n",
       "      <td>0.0</td>\n",
       "      <td>VMC</td>\n",
       "    </tr>\n",
       "  </tbody>\n",
       "</table>\n",
       "</div>"
      ],
      "text/plain": [
       "         event_id investigation_type  event_date         location  \\\n",
       "0  20001218X45444           Accident  1948-10-24  MOOSE CREEK, ID   \n",
       "1  20001218X45447           Accident  1962-07-19   BRIDGEPORT, CA   \n",
       "2  20061025X01555           Accident  1974-08-30    Saltville, VA   \n",
       "3  20001218X45448           Accident  1977-06-19       EUREKA, CA   \n",
       "4  20041105X01764           Accident  1979-08-02       Canton, OH   \n",
       "\n",
       "         country injury_severity aircraft_damage      make     model  \\\n",
       "0  United States        Fatal(2)       Destroyed   Stinson     108-3   \n",
       "1  United States        Fatal(4)       Destroyed     Piper  PA24-180   \n",
       "2  United States        Fatal(3)       Destroyed    Cessna      172M   \n",
       "3  United States        Fatal(2)       Destroyed  Rockwell       112   \n",
       "4  United States        Fatal(1)       Destroyed    Cessna       501   \n",
       "\n",
       "   number_of_engines    engine_type purpose_of_flight  total_fatal_injuries  \\\n",
       "0                1.0  Reciprocating          Personal                   2.0   \n",
       "1                1.0  Reciprocating          Personal                   4.0   \n",
       "2                1.0  Reciprocating          Personal                   3.0   \n",
       "3                1.0  Reciprocating          Personal                   2.0   \n",
       "4                NaN            NaN          Personal                   1.0   \n",
       "\n",
       "   total_serious_injuries  total_minor_injuries  total_uninjured  \\\n",
       "0                     0.0                   0.0              0.0   \n",
       "1                     0.0                   0.0              0.0   \n",
       "2                     NaN                   NaN              NaN   \n",
       "3                     0.0                   0.0              0.0   \n",
       "4                     2.0                   NaN              0.0   \n",
       "\n",
       "  weather_condition  \n",
       "0               UNK  \n",
       "1               UNK  \n",
       "2               IMC  \n",
       "3               IMC  \n",
       "4               VMC  "
      ]
     },
     "execution_count": 16,
     "metadata": {},
     "output_type": "execute_result"
    }
   ],
   "source": [
    "avi_df_clean.head()"
   ]
  },
  {
   "cell_type": "markdown",
   "metadata": {},
   "source": [
    "### Cleaning injury_severity and total_fatal_injuries columns\n",
    "\n",
    "I realized that the values in parenthesis in injury_severity column are actually in the total_fatal_injuries column, which contains a lot of null values. Therefore I created a new column \"totalfatal_injuries that contain the values from injury_severity column."
   ]
  },
  {
   "cell_type": "code",
   "execution_count": 17,
   "metadata": {
    "scrolled": true
   },
   "outputs": [
    {
     "data": {
      "text/html": [
       "<div>\n",
       "<style scoped>\n",
       "    .dataframe tbody tr th:only-of-type {\n",
       "        vertical-align: middle;\n",
       "    }\n",
       "\n",
       "    .dataframe tbody tr th {\n",
       "        vertical-align: top;\n",
       "    }\n",
       "\n",
       "    .dataframe thead th {\n",
       "        text-align: right;\n",
       "    }\n",
       "</style>\n",
       "<table border=\"1\" class=\"dataframe\">\n",
       "  <thead>\n",
       "    <tr style=\"text-align: right;\">\n",
       "      <th></th>\n",
       "      <th>injury_severity</th>\n",
       "      <th>total_fatal_injuries</th>\n",
       "    </tr>\n",
       "  </thead>\n",
       "  <tbody>\n",
       "    <tr>\n",
       "      <th>0</th>\n",
       "      <td>Fatal(2)</td>\n",
       "      <td>2.0</td>\n",
       "    </tr>\n",
       "    <tr>\n",
       "      <th>1</th>\n",
       "      <td>Fatal(4)</td>\n",
       "      <td>4.0</td>\n",
       "    </tr>\n",
       "    <tr>\n",
       "      <th>2</th>\n",
       "      <td>Fatal(3)</td>\n",
       "      <td>3.0</td>\n",
       "    </tr>\n",
       "    <tr>\n",
       "      <th>3</th>\n",
       "      <td>Fatal(2)</td>\n",
       "      <td>2.0</td>\n",
       "    </tr>\n",
       "    <tr>\n",
       "      <th>4</th>\n",
       "      <td>Fatal(1)</td>\n",
       "      <td>1.0</td>\n",
       "    </tr>\n",
       "    <tr>\n",
       "      <th>...</th>\n",
       "      <td>...</td>\n",
       "      <td>...</td>\n",
       "    </tr>\n",
       "    <tr>\n",
       "      <th>88884</th>\n",
       "      <td>Minor</td>\n",
       "      <td>0.0</td>\n",
       "    </tr>\n",
       "    <tr>\n",
       "      <th>88885</th>\n",
       "      <td>NaN</td>\n",
       "      <td>0.0</td>\n",
       "    </tr>\n",
       "    <tr>\n",
       "      <th>88886</th>\n",
       "      <td>Non-Fatal</td>\n",
       "      <td>0.0</td>\n",
       "    </tr>\n",
       "    <tr>\n",
       "      <th>88887</th>\n",
       "      <td>NaN</td>\n",
       "      <td>0.0</td>\n",
       "    </tr>\n",
       "    <tr>\n",
       "      <th>88888</th>\n",
       "      <td>Minor</td>\n",
       "      <td>0.0</td>\n",
       "    </tr>\n",
       "  </tbody>\n",
       "</table>\n",
       "<p>88889 rows × 2 columns</p>\n",
       "</div>"
      ],
      "text/plain": [
       "      injury_severity  total_fatal_injuries\n",
       "0            Fatal(2)                   2.0\n",
       "1            Fatal(4)                   4.0\n",
       "2            Fatal(3)                   3.0\n",
       "3            Fatal(2)                   2.0\n",
       "4            Fatal(1)                   1.0\n",
       "...               ...                   ...\n",
       "88884           Minor                   0.0\n",
       "88885             NaN                   0.0\n",
       "88886       Non-Fatal                   0.0\n",
       "88887             NaN                   0.0\n",
       "88888           Minor                   0.0\n",
       "\n",
       "[88889 rows x 2 columns]"
      ]
     },
     "execution_count": 17,
     "metadata": {},
     "output_type": "execute_result"
    }
   ],
   "source": [
    "avi_df_clean.loc[:,[\"injury_severity\", \"total_fatal_injuries\"]]"
   ]
  },
  {
   "cell_type": "code",
   "execution_count": 18,
   "metadata": {
    "scrolled": true
   },
   "outputs": [
    {
     "data": {
      "text/plain": [
       "Non-Fatal     67357\n",
       "Fatal(1)       6167\n",
       "Fatal          5262\n",
       "Fatal(2)       3711\n",
       "Incident       2219\n",
       "              ...  \n",
       "Fatal(43)         1\n",
       "Fatal(35)         1\n",
       "Fatal(78)         1\n",
       "Fatal(145)        1\n",
       "Fatal(73)         1\n",
       "Name: injury_severity, Length: 109, dtype: int64"
      ]
     },
     "execution_count": 18,
     "metadata": {},
     "output_type": "execute_result"
    }
   ],
   "source": [
    "avi_df_clean[\"injury_severity\"].value_counts()"
   ]
  },
  {
   "cell_type": "code",
   "execution_count": 19,
   "metadata": {},
   "outputs": [
    {
     "name": "stdout",
     "output_type": "stream",
     "text": [
      "0    2\n",
      "1    4\n",
      "2    3\n",
      "3    2\n",
      "4    1\n",
      "Name: totalfatal_injuries, dtype: int32\n"
     ]
    }
   ],
   "source": [
    "# Creating a new column\n",
    "# Extracting numbers from the 'injury_severity' column using regex & Fill missing values in 'totalfatal_injuries' with 0 \n",
    "avi_df_clean['totalfatal_injuries'] = avi_df_clean['injury_severity'].str.extract(r'\\((\\d+)\\)').fillna(0).astype(int)\n",
    "\n",
    "print(avi_df_clean['totalfatal_injuries'].head())\n"
   ]
  },
  {
   "cell_type": "code",
   "execution_count": 20,
   "metadata": {
    "scrolled": true
   },
   "outputs": [
    {
     "data": {
      "text/html": [
       "<div>\n",
       "<style scoped>\n",
       "    .dataframe tbody tr th:only-of-type {\n",
       "        vertical-align: middle;\n",
       "    }\n",
       "\n",
       "    .dataframe tbody tr th {\n",
       "        vertical-align: top;\n",
       "    }\n",
       "\n",
       "    .dataframe thead th {\n",
       "        text-align: right;\n",
       "    }\n",
       "</style>\n",
       "<table border=\"1\" class=\"dataframe\">\n",
       "  <thead>\n",
       "    <tr style=\"text-align: right;\">\n",
       "      <th></th>\n",
       "      <th>injury_severity</th>\n",
       "      <th>totalfatal_injuries</th>\n",
       "    </tr>\n",
       "  </thead>\n",
       "  <tbody>\n",
       "    <tr>\n",
       "      <th>0</th>\n",
       "      <td>Fatal(2)</td>\n",
       "      <td>2</td>\n",
       "    </tr>\n",
       "    <tr>\n",
       "      <th>1</th>\n",
       "      <td>Fatal(4)</td>\n",
       "      <td>4</td>\n",
       "    </tr>\n",
       "    <tr>\n",
       "      <th>2</th>\n",
       "      <td>Fatal(3)</td>\n",
       "      <td>3</td>\n",
       "    </tr>\n",
       "    <tr>\n",
       "      <th>3</th>\n",
       "      <td>Fatal(2)</td>\n",
       "      <td>2</td>\n",
       "    </tr>\n",
       "    <tr>\n",
       "      <th>4</th>\n",
       "      <td>Fatal(1)</td>\n",
       "      <td>1</td>\n",
       "    </tr>\n",
       "    <tr>\n",
       "      <th>...</th>\n",
       "      <td>...</td>\n",
       "      <td>...</td>\n",
       "    </tr>\n",
       "    <tr>\n",
       "      <th>88884</th>\n",
       "      <td>Minor</td>\n",
       "      <td>0</td>\n",
       "    </tr>\n",
       "    <tr>\n",
       "      <th>88885</th>\n",
       "      <td>NaN</td>\n",
       "      <td>0</td>\n",
       "    </tr>\n",
       "    <tr>\n",
       "      <th>88886</th>\n",
       "      <td>Non-Fatal</td>\n",
       "      <td>0</td>\n",
       "    </tr>\n",
       "    <tr>\n",
       "      <th>88887</th>\n",
       "      <td>NaN</td>\n",
       "      <td>0</td>\n",
       "    </tr>\n",
       "    <tr>\n",
       "      <th>88888</th>\n",
       "      <td>Minor</td>\n",
       "      <td>0</td>\n",
       "    </tr>\n",
       "  </tbody>\n",
       "</table>\n",
       "<p>88889 rows × 2 columns</p>\n",
       "</div>"
      ],
      "text/plain": [
       "      injury_severity  totalfatal_injuries\n",
       "0            Fatal(2)                    2\n",
       "1            Fatal(4)                    4\n",
       "2            Fatal(3)                    3\n",
       "3            Fatal(2)                    2\n",
       "4            Fatal(1)                    1\n",
       "...               ...                  ...\n",
       "88884           Minor                    0\n",
       "88885             NaN                    0\n",
       "88886       Non-Fatal                    0\n",
       "88887             NaN                    0\n",
       "88888           Minor                    0\n",
       "\n",
       "[88889 rows x 2 columns]"
      ]
     },
     "execution_count": 20,
     "metadata": {},
     "output_type": "execute_result"
    }
   ],
   "source": [
    "avi_df_clean.loc[:,[\"injury_severity\", \"totalfatal_injuries\"]]"
   ]
  },
  {
   "cell_type": "code",
   "execution_count": 21,
   "metadata": {},
   "outputs": [
    {
     "name": "stdout",
     "output_type": "stream",
     "text": [
      "0            Fatal\n",
      "1            Fatal\n",
      "2            Fatal\n",
      "3            Fatal\n",
      "4            Fatal\n",
      "           ...    \n",
      "88884        Minor\n",
      "88885          NaN\n",
      "88886    Non-Fatal\n",
      "88887          NaN\n",
      "88888        Minor\n",
      "Name: injury_severity, Length: 88889, dtype: object\n"
     ]
    }
   ],
   "source": [
    "# Remove values in parentheses from 'injury_severity' to remain with unique values\n",
    "avi_df_clean['injury_severity'] = avi_df_clean['injury_severity'].str.replace(r'\\(.*?\\)', '', regex=True).str.strip()\n",
    "\n",
    "# Displaying the updated DataFrame to verify\n",
    "print(avi_df_clean['injury_severity'])\n"
   ]
  },
  {
   "cell_type": "code",
   "execution_count": 22,
   "metadata": {
    "scrolled": true
   },
   "outputs": [
    {
     "data": {
      "text/plain": [
       "Non-Fatal      67357\n",
       "Fatal          17826\n",
       "Incident        2219\n",
       "Minor            218\n",
       "Serious          173\n",
       "Unavailable       96\n",
       "Name: injury_severity, dtype: int64"
      ]
     },
     "execution_count": 22,
     "metadata": {},
     "output_type": "execute_result"
    }
   ],
   "source": [
    "avi_df_clean[\"injury_severity\"].value_counts()"
   ]
  },
  {
   "cell_type": "code",
   "execution_count": 23,
   "metadata": {
    "scrolled": true
   },
   "outputs": [
    {
     "data": {
      "text/plain": [
       "event_id                      0\n",
       "investigation_type            0\n",
       "event_date                    0\n",
       "location                     52\n",
       "country                     226\n",
       "injury_severity            1000\n",
       "aircraft_damage            3194\n",
       "make                         63\n",
       "model                        92\n",
       "number_of_engines          6084\n",
       "engine_type                7077\n",
       "purpose_of_flight          6192\n",
       "total_fatal_injuries      11401\n",
       "total_serious_injuries    12510\n",
       "total_minor_injuries      11933\n",
       "total_uninjured            5912\n",
       "weather_condition          4492\n",
       "totalfatal_injuries           0\n",
       "dtype: int64"
      ]
     },
     "execution_count": 23,
     "metadata": {},
     "output_type": "execute_result"
    }
   ],
   "source": [
    "avi_df_clean.isna().sum()"
   ]
  },
  {
   "cell_type": "code",
   "execution_count": 24,
   "metadata": {},
   "outputs": [],
   "source": [
    "# Droping total_fatal_injuries col\n",
    "avi_df_clean.drop(columns=['total_fatal_injuries'], inplace=True)"
   ]
  },
  {
   "cell_type": "code",
   "execution_count": 25,
   "metadata": {
    "scrolled": true
   },
   "outputs": [
    {
     "data": {
      "text/plain": [
       "event_id                      0\n",
       "investigation_type            0\n",
       "event_date                    0\n",
       "location                     52\n",
       "country                     226\n",
       "injury_severity            1000\n",
       "aircraft_damage            3194\n",
       "make                         63\n",
       "model                        92\n",
       "number_of_engines          6084\n",
       "engine_type                7077\n",
       "purpose_of_flight          6192\n",
       "total_serious_injuries    12510\n",
       "total_minor_injuries      11933\n",
       "total_uninjured            5912\n",
       "weather_condition          4492\n",
       "totalfatal_injuries           0\n",
       "dtype: int64"
      ]
     },
     "execution_count": 25,
     "metadata": {},
     "output_type": "execute_result"
    }
   ],
   "source": [
    "avi_df_clean.isna().sum()"
   ]
  },
  {
   "cell_type": "code",
   "execution_count": 26,
   "metadata": {},
   "outputs": [
    {
     "data": {
      "text/plain": [
       "Cessna            22227\n",
       "Piper             12029\n",
       "CESSNA             4922\n",
       "Beech              4330\n",
       "PIPER              2841\n",
       "                  ...  \n",
       "Whitman               1\n",
       "Foster/hilsman        1\n",
       "Southern Aero         1\n",
       "TUCKER-HURNI          1\n",
       "Dauntless             1\n",
       "Name: make, Length: 8237, dtype: int64"
      ]
     },
     "execution_count": 26,
     "metadata": {},
     "output_type": "execute_result"
    }
   ],
   "source": [
    "# Checking the value counts in make column\n",
    "avi_df_clean[\"make\"].value_counts()\n",
    "\n",
    "#It seems it contains both uppercased and lowercased values"
   ]
  },
  {
   "cell_type": "code",
   "execution_count": 27,
   "metadata": {},
   "outputs": [
    {
     "data": {
      "text/plain": [
       "Cessna               27149\n",
       "Piper                14870\n",
       "Beech                 5372\n",
       "Boeing                2745\n",
       "Bell                  2722\n",
       "                     ...  \n",
       "Michael j robbins        1\n",
       "Reupert mark             1\n",
       "Summerfeldt              1\n",
       "Rudolph                  1\n",
       "Dauntless                1\n",
       "Name: make, Length: 7587, dtype: int64"
      ]
     },
     "execution_count": 27,
     "metadata": {},
     "output_type": "execute_result"
    }
   ],
   "source": [
    "# Convert the 'make' column to lowercase to improve our analysis\n",
    "avi_df_clean['make'] = avi_df_clean['make'].str.capitalize()\n",
    "\n",
    "avi_df_clean['make'].value_counts()\n"
   ]
  },
  {
   "cell_type": "code",
   "execution_count": 28,
   "metadata": {
    "scrolled": true
   },
   "outputs": [
    {
     "data": {
      "text/plain": [
       "event_id                   object\n",
       "investigation_type         object\n",
       "event_date                 object\n",
       "location                   object\n",
       "country                    object\n",
       "injury_severity            object\n",
       "aircraft_damage            object\n",
       "make                       object\n",
       "model                      object\n",
       "number_of_engines         float64\n",
       "engine_type                object\n",
       "purpose_of_flight          object\n",
       "total_serious_injuries    float64\n",
       "total_minor_injuries      float64\n",
       "total_uninjured           float64\n",
       "weather_condition          object\n",
       "totalfatal_injuries         int32\n",
       "dtype: object"
      ]
     },
     "execution_count": 28,
     "metadata": {},
     "output_type": "execute_result"
    }
   ],
   "source": [
    "# Checking for categorical columns \n",
    "\n",
    "avi_df_clean.dtypes"
   ]
  },
  {
   "cell_type": "code",
   "execution_count": 29,
   "metadata": {},
   "outputs": [],
   "source": [
    "# Filling null values in categorical columns with the mode\n",
    "categorical_columns = [ 'injury_severity', 'aircraft_damage',\n",
    "                        'make', 'model', 'engine_type', 'purpose_of_flight', 'weather_condition']\n",
    "\n",
    "\n",
    "# Filling null values in each categorical column with the mode\n",
    "for column in categorical_columns:\n",
    "    mode_value = avi_df_clean[column].mode()[0]  \n",
    "    avi_df_clean[column].fillna(mode_value, inplace=True)"
   ]
  },
  {
   "cell_type": "code",
   "execution_count": 32,
   "metadata": {},
   "outputs": [],
   "source": [
    "#Dropping rows with null values in the remaining categorical columns\n",
    "avi_df_clean = avi_df_clean.dropna(subset=['location', 'country'])"
   ]
  },
  {
   "cell_type": "code",
   "execution_count": 33,
   "metadata": {},
   "outputs": [
    {
     "data": {
      "text/plain": [
       "event_id                      0\n",
       "investigation_type            0\n",
       "event_date                    0\n",
       "location                      0\n",
       "country                       0\n",
       "injury_severity               0\n",
       "aircraft_damage               0\n",
       "make                          0\n",
       "model                         0\n",
       "number_of_engines          6048\n",
       "engine_type                   0\n",
       "purpose_of_flight             0\n",
       "total_serious_injuries    12482\n",
       "total_minor_injuries      11904\n",
       "total_uninjured            5892\n",
       "weather_condition             0\n",
       "totalfatal_injuries           0\n",
       "dtype: int64"
      ]
     },
     "execution_count": 33,
     "metadata": {},
     "output_type": "execute_result"
    }
   ],
   "source": [
    "avi_df_clean.isna().sum()"
   ]
  },
  {
   "cell_type": "markdown",
   "metadata": {},
   "source": [
    "## Data Modeling\n",
    "Describe and justify the process for analyzing or modeling the data.\n",
    "\n",
    "***\n",
    "Questions to consider:\n",
    "* How did you analyze or model the data?\n",
    "* How did you iterate on your initial approach to make it better?\n",
    "* Why are these choices appropriate given the data and the business problem?\n",
    "***"
   ]
  },
  {
   "cell_type": "code",
   "execution_count": 31,
   "metadata": {},
   "outputs": [],
   "source": [
    "# Here you run your code to model the data\n"
   ]
  },
  {
   "cell_type": "markdown",
   "metadata": {},
   "source": [
    "## Evaluation\n",
    "Evaluate how well your work solves the stated business problem.\n",
    "\n",
    "***\n",
    "Questions to consider:\n",
    "* How do you interpret the results?\n",
    "* How well does your model fit your data? How much better is this than your baseline model?\n",
    "* How confident are you that your results would generalize beyond the data you have?\n",
    "* How confident are you that this model would benefit the business if put into use?\n",
    "***"
   ]
  },
  {
   "cell_type": "markdown",
   "metadata": {},
   "source": [
    "## Conclusions\n",
    "Provide your conclusions about the work you've done, including any limitations or next steps.\n",
    "\n",
    "***\n",
    "Questions to consider:\n",
    "* What would you recommend the business do as a result of this work?\n",
    "* What are some reasons why your analysis might not fully solve the business problem?\n",
    "* What else could you do in the future to improve this project?\n",
    "***"
   ]
  }
 ],
 "metadata": {
  "kernelspec": {
   "display_name": "Python 3",
   "language": "python",
   "name": "python3"
  },
  "language_info": {
   "codemirror_mode": {
    "name": "ipython",
    "version": 3
   },
   "file_extension": ".py",
   "mimetype": "text/x-python",
   "name": "python",
   "nbconvert_exporter": "python",
   "pygments_lexer": "ipython3",
   "version": "3.8.5"
  }
 },
 "nbformat": 4,
 "nbformat_minor": 4
}
